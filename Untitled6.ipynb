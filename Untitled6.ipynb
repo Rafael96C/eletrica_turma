{
  "nbformat": 4,
  "nbformat_minor": 0,
  "metadata": {
    "colab": {
      "provenance": [],
      "authorship_tag": "ABX9TyOpO16mLenxbvlt+wYEJh9V",
      "include_colab_link": true
    },
    "kernelspec": {
      "name": "python3",
      "display_name": "Python 3"
    },
    "language_info": {
      "name": "python"
    }
  },
  "cells": [
    {
      "cell_type": "markdown",
      "metadata": {
        "id": "view-in-github",
        "colab_type": "text"
      },
      "source": [
        "<a href=\"https://colab.research.google.com/github/Rafael96C/eletrica_turma/blob/main/Untitled6.ipynb\" target=\"_parent\"><img src=\"https://colab.research.google.com/assets/colab-badge.svg\" alt=\"Open In Colab\"/></a>"
      ]
    },
    {
      "cell_type": "code",
      "execution_count": null,
      "metadata": {
        "id": "yorkV4hPZ7xa"
      },
      "outputs": [],
      "source": []
    },
    {
      "cell_type": "code",
      "source": [
        "numero = int(input(\"digite um numero inteiro:\"))\n",
        "if numero % 2==0:\n",
        "  print(f\"o numero{numero}e par.\")\n",
        "\n",
        "else:\n",
        "    print(f\"o numero{numero}e impar.\")"
      ],
      "metadata": {
        "colab": {
          "base_uri": "https://localhost:8080/"
        },
        "id": "L3SXwT_teWG8",
        "outputId": "ee884e89-94e1-402f-8c3c-ea9d6a8e42db"
      },
      "execution_count": 3,
      "outputs": [
        {
          "output_type": "stream",
          "name": "stdout",
          "text": [
            "digite um numero inteiro:22\n",
            "o numero22e par.\n"
          ]
        }
      ]
    },
    {
      "cell_type": "code",
      "source": [
        "import math\n",
        "numero = float(input(\"digite um numero:\"))\n",
        "if numero >= 0:\n",
        "  raiz_quadrada = math.sqrt(numero)\n",
        "  print(f\"a raiz quadrada de um {numero}e {raiz_quadrada: .2f}.\")\n",
        "else:\n",
        "    print(\"nao existeraiz realparaeste numero!\")"
      ],
      "metadata": {
        "colab": {
          "base_uri": "https://localhost:8080/"
        },
        "id": "CokMewfKgMnC",
        "outputId": "f991b971-7d84-462f-cb40-86e4d5561826"
      },
      "execution_count": 8,
      "outputs": [
        {
          "output_type": "stream",
          "name": "stdout",
          "text": [
            "digite um numero:22\n",
            "a raiz quadrada de um 22.0e  4.69.\n"
          ]
        }
      ]
    },
    {
      "cell_type": "markdown",
      "source": [],
      "metadata": {
        "id": "tAcje6PYiPRZ"
      }
    },
    {
      "cell_type": "code",
      "source": [
        "comprimento = float(input(\"digite o comprimento da camiseta em centimetros:\"))\n",
        "largura = float(input(\"digite a largura da camiseta em centimetros:\"))\n",
        "if comprimento <= 60 and largura <= 45:\n",
        "  tamanho = \"pp\"\n",
        "elif comprimento <= 65 and largura <= 48:\n",
        "    tamanho = \"p\"\n",
        "elif comprimento <= 70 and largura <= 51:\n",
        "      tamanho = \"M\"\n",
        "elif comprimento <= 75 and largura <= 54:\n",
        "      tamanho = \"g\"\n",
        "elif comprimneto <= 80 and largura <= 57:\n",
        "        tamanho = \"gg\"\n",
        "else:\n",
        " tamanho = \"xgg\"\n",
        " #  exibe o tamanho da camiseta\n",
        "print(f\"o tamanho da camiseta e {tamanho}.\")\n"
      ],
      "metadata": {
        "colab": {
          "base_uri": "https://localhost:8080/"
        },
        "id": "7zrg3vRUiURf",
        "outputId": "c46c8389-335c-4343-b54f-3b909b858fbc"
      },
      "execution_count": 14,
      "outputs": [
        {
          "output_type": "stream",
          "name": "stdout",
          "text": [
            "digite o comprimento da camiseta em centimetros:45\n",
            "digite a largura da camiseta em centimetros:35\n",
            "o tamanho da camiseta e pp.\n"
          ]
        }
      ]
    },
    {
      "cell_type": "markdown",
      "source": [
        "*codigos realizados dia 10/09/24.*"
      ],
      "metadata": {
        "id": "U_BhHfs5l6jK"
      }
    }
  ]
}