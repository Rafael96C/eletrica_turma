{
  "nbformat": 4,
  "nbformat_minor": 0,
  "metadata": {
    "colab": {
      "provenance": [],
      "authorship_tag": "ABX9TyPDsspZ2ShN6A6y4YtTLuNy",
      "include_colab_link": true
    },
    "kernelspec": {
      "name": "python3",
      "display_name": "Python 3"
    },
    "language_info": {
      "name": "python"
    }
  },
  "cells": [
    {
      "cell_type": "markdown",
      "metadata": {
        "id": "view-in-github",
        "colab_type": "text"
      },
      "source": [
        "<a href=\"https://colab.research.google.com/github/Rafael96C/eletrica_turma/blob/main/Untitled7.ipynb\" target=\"_parent\"><img src=\"https://colab.research.google.com/assets/colab-badge.svg\" alt=\"Open In Colab\"/></a>"
      ]
    },
    {
      "cell_type": "code",
      "source": [
        "# Início do programa\n",
        "\n",
        "# Solicita ao usuário que informe um valor inteiro\n",
        "x = int(input(\"Digite um valor inteiro: \"))\n",
        "\n",
        "# Calcula o resto da divisão de x por 3\n",
        "r = x % 3\n",
        "\n",
        "# Verifica se o resto é igual a 0\n",
        "if r == 0:\n",
        "    print(\"Múltiplo\")\n",
        "else:\n",
        "    print(\"Não múltiplo\")\n",
        "\n",
        "# Fim do programa\n"
      ],
      "metadata": {
        "colab": {
          "base_uri": "https://localhost:8080/"
        },
        "id": "9Cit4QaakJhh",
        "outputId": "dfcb5245-eff0-44de-8f84-89dc04cdeab5"
      },
      "execution_count": 15,
      "outputs": [
        {
          "output_type": "stream",
          "name": "stdout",
          "text": [
            "Digite um valor inteiro: 10\n",
            "Não múltiplo\n"
          ]
        }
      ]
    },
    {
      "cell_type": "code",
      "source": [
        "# Função para calcular a média ponderada e verificar a aprovação\n",
        "def calcular_media_e_status():\n",
        "    # Solicita ao usuário que informe as notas\n",
        "    a = float(input(\"Digite a nota a: \"))\n",
        "    b = float(input(\"Digite a nota b: \"))\n",
        "\n",
        "    # Define os pesos\n",
        "    peso_a = 2\n",
        "    peso_b = 3\n",
        "\n",
        "    # Calcula a média ponderada\n",
        "    media_ponderada = (a * peso_a + b * peso_b) / (peso_a + peso_b)\n",
        "\n",
        "    # Verifica se o aluno foi aprovado\n",
        "    if media_ponderada >= 5:\n",
        "        status = \"Aprovado\"\n",
        "    else:\n",
        "        status = \"Não Aprovado\"\n",
        "\n",
        "    # Exibe a média e o status\n",
        "    print(f\"\\nMédia Ponderada: {media_ponderada:.2f}\")\n",
        "    print(f\"Status: {status}\")\n",
        "\n",
        "# Função para encontrar o menor valor entre três números\n",
        "def encontrar_menor_valor():\n",
        "    # Solicita ao usuário que informe os três valores\n",
        "    a = float(input(\"\\nDigite o valor a: \"))\n",
        "    b = float(input(\"Digite o valor b: \"))\n",
        "    c = float(input(\"Digite o valor c: \"))\n",
        "\n",
        "    # Determina o menor valor\n",
        "    menor = min(a, b, c)\n",
        "\n",
        "    # Exibe o menor valor\n",
        "    print(f\"O menor valor é: {menor}\")\n",
        "\n",
        "# Executa as funções\n",
        "calcular_media_e_status()\n",
        "encontrar_menor_valor()"
      ],
      "metadata": {
        "colab": {
          "base_uri": "https://localhost:8080/"
        },
        "id": "kGAyMaOUk-OI",
        "outputId": "e708e96c-08b7-42db-bfb6-8aabb79ddb79"
      },
      "execution_count": 16,
      "outputs": [
        {
          "output_type": "stream",
          "name": "stdout",
          "text": [
            "Digite a nota a: 10\n",
            "Digite a nota b: 5\n",
            "\n",
            "Média Ponderada: 7.00\n",
            "Status: Aprovado\n",
            "\n",
            "Digite o valor a: 10\n",
            "Digite o valor b: 5\n",
            "Digite o valor c: 5\n",
            "O menor valor é: 5.0\n"
          ]
        }
      ]
    }
  ]
}